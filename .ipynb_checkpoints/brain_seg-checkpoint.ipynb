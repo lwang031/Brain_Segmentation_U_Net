{
 "cells": [
  {
   "cell_type": "code",
   "execution_count": 1,
   "metadata": {},
   "outputs": [],
   "source": [
    "import nibabel as nib\n",
    "import numpy as np\n",
    "import tables\n",
    "%matplotlib inline\n",
    "import matplotlib.pyplot as plt\n",
    "import matplotlib\n",
    "import SimpleITK as sitk\n",
    "import glob\n",
    "import scipy.misc\n",
    "from skimage import exposure, img_as_float#, #data\n",
    "\n",
    "plt.rcParams['image.cmap'] = 'gist_earth'\n",
    "from PIL import Image\n",
    "\n"
   ]
  },
  {
   "cell_type": "code",
   "execution_count": 2,
   "metadata": {
    "collapsed": true
   },
   "outputs": [],
   "source": [
    "from tf_unet import image_util\n",
    "from tf_unet import unet\n",
    "from tf_unet import util\n",
    "from tf_unet.image_util import ImageDataProvider"
   ]
  },
  {
   "cell_type": "code",
   "execution_count": 3,
   "metadata": {
    "collapsed": true
   },
   "outputs": [],
   "source": [
    "class bggenerator(ImageDataProvider):\n",
    "    n_class = 2   \n",
    "    def _load_file(self, path, dtype=np.float32):\n",
    "        img = nib.load(path)\n",
    "        data = img.get_data()[...,0,0]\n",
    "        if np.max(data) != 1:\n",
    "            data = img_as_float(data)\n",
    "            data = exposure.equalize_adapthist(data, clip_limit=0.01, nbins=256)\n",
    "            #data = exposure.equalize_hist(data, nbins=4096)        \n",
    "            #data =data * 4096\n",
    "        #data = scipy.misc.imresize(data,[472,760], interp='bilinear', mode=None)\n",
    "        data = np.pad(data,20,'constant')\n",
    "        data = np.rot90(data)\n",
    "        #print (path)\n",
    "        #print (type(data))\n",
    "        #print (data.shape)\n",
    "        return np.array(data, dtype)    "
   ]
  },
  {
   "cell_type": "code",
   "execution_count": 4,
   "metadata": {
    "scrolled": true
   },
   "outputs": [
    {
     "ename": "SyntaxError",
     "evalue": "(unicode error) 'unicodeescape' codec can't decode bytes in position 2-3: truncated \\UXXXXXXXX escape (<ipython-input-4-ef5348f98b38>, line 1)",
     "output_type": "error",
     "traceback": [
      "\u001b[1;36m  File \u001b[1;32m\"<ipython-input-4-ef5348f98b38>\"\u001b[1;36m, line \u001b[1;32m1\u001b[0m\n\u001b[1;33m    generator = bggenerator(\"C:\\Users\\Tony2\\brain_seg_mult\\data\\*\\*.hdr\",\"DeepCorT1.hdr\",\"DeepBinary.hdr\")\u001b[0m\n\u001b[1;37m                           ^\u001b[0m\n\u001b[1;31mSyntaxError\u001b[0m\u001b[1;31m:\u001b[0m (unicode error) 'unicodeescape' codec can't decode bytes in position 2-3: truncated \\UXXXXXXXX escape\n"
     ]
    }
   ],
   "source": [
    "generator = bggenerator(\"C:/Users/Tony2/brain_seg_mult/data/*/*.hdr\",\"DeepCorT1.hdr\",\"DeepBinary.hdr\")\n",
    "x_test, y_test = generator(1)\n",
    "\n",
    "#print (generator(2)[1].shape)\n",
    "#print (generator(2)[0].shape)\n",
    "#print (np.max(generator(22)[1]))\n",
    "print(x_test.shape, y_test.shape)\n"
   ]
  },
  {
   "cell_type": "code",
   "execution_count": null,
   "metadata": {
    "collapsed": true,
    "scrolled": true
   },
   "outputs": [],
   "source": [
    "fig, ax = plt.subplots(1,3, sharey=True, figsize=(12,5))\n",
    "ax[0].imshow(x_test[0,...,0], aspect=\"auto\")\n",
    "ax[1].imshow(y_test[0,...,0], aspect=\"auto\")\n",
    "ax[2].imshow(y_test[0,...,1], aspect=\"auto\")"
   ]
  },
  {
   "cell_type": "code",
   "execution_count": null,
   "metadata": {
    "collapsed": true
   },
   "outputs": [],
   "source": [
    "#features used to be 16\n",
    "net = unet.Unet(channels=generator.channels, n_class=generator.n_class, layers=3, features_root=128)"
   ]
  },
  {
   "cell_type": "code",
   "execution_count": null,
   "metadata": {
    "collapsed": true
   },
   "outputs": [],
   "source": [
    "trainer = unet.Trainer(net)#,optimizer = \"adam\",opt_kwargs = dict(adam=0.01))#, optimizer=\"adam\", opt_kwargs=dict(adam=0.01))\n",
    "#trainer = unet.Trainer(net, optimizer=\"momentum\", opt_kwargs=dict(momentum=0.2))"
   ]
  },
  {
   "cell_type": "code",
   "execution_count": null,
   "metadata": {
    "collapsed": true,
    "scrolled": true
   },
   "outputs": [],
   "source": [
    "#dropout = 0.75\n",
    "path = trainer.train(generator, \"./unet_trained\", training_iters=100, epochs=1000, dropout = 0.5, display_step=50, restore = True)"
   ]
  },
  {
   "cell_type": "code",
   "execution_count": null,
   "metadata": {
    "collapsed": true
   },
   "outputs": [],
   "source": [
    "x_test, y_test = generator(1)\n",
    "prediction = net.predict(\"./unet_trained/model.cpkt\", x_test)\n"
   ]
  },
  {
   "cell_type": "code",
   "execution_count": null,
   "metadata": {
    "collapsed": true
   },
   "outputs": [],
   "source": [
    "print (x_test.shape)\n",
    "#print(x_test.shape, y_test.shape)\n",
    "plt.imshow(x_test[0,...,0],aspect = 'auto')"
   ]
  },
  {
   "cell_type": "code",
   "execution_count": null,
   "metadata": {
    "collapsed": true
   },
   "outputs": [],
   "source": [
    "print (prediction.shape)\n",
    "print (np.min(prediction))\n",
    "print (np.max(prediction))\n",
    "mask = prediction[0,:,:,1] \n",
    "plt.imshow(mask,aspect = 'auto')"
   ]
  },
  {
   "cell_type": "code",
   "execution_count": null,
   "metadata": {
    "collapsed": true
   },
   "outputs": [],
   "source": [
    "mask = scipy.misc.imresize(prediction[0,:,:,1],[48,80], interp='bilinear', mode=None)\n",
    "print (np.min(mask))\n",
    "print (np.max(mask))\n",
    "print (np.max(prediction[0,:,:,1]))\n",
    "\n",
    "print(mask.shape)\n",
    "mask = mask > 0.97 * np.max(mask)\n",
    "\n",
    "fig, ax = plt.subplots(1, 3, sharex=True, sharey=True, figsize=(12,5))\n",
    "ax[0].imshow(x_test[0,...,0], aspect=\"auto\")\n",
    "ax[1].imshow(y_test[0,...,1], aspect=\"auto\")\n",
    "\n",
    "ax[2].imshow(mask, aspect=\"auto\")\n",
    "\n",
    "ax[0].set_title(\"Input\")\n",
    "ax[1].set_title(\"Ground truth\")\n",
    "ax[2].set_title(\"Prediction\")\n",
    "fig.tight_layout()\n",
    "#fig.savefig(\"docs/toy_problem.png\")\n",
    "len(ax)"
   ]
  },
  {
   "cell_type": "raw",
   "metadata": {
    "collapsed": true
   },
   "source": []
  }
 ],
 "metadata": {
  "kernelspec": {
   "display_name": "Python 3",
   "language": "python",
   "name": "python3"
  }
 },
 "nbformat": 4,
 "nbformat_minor": 2
}
